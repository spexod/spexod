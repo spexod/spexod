{
 "cells": [
  {
   "attachments": {},
   "cell_type": "markdown",
   "metadata": {
    "collapsed": false
   },
   "source": [
    "# Getting Started SpExoDisks API with Python\n",
    "## =========================================\n",
    "\n",
    "## 1. Introduction\n",
    "\n",
    "### 1.1. What is SpExoDisks?\n",
    "SpExoDisks is a comprehensive database that serves as a valuable resource for studying Protoplanetary Disks through an accessible web interface available worldwide. This initiative arose from the recognition of an opportunity and a need: the consolidation of a vast collection of high-quality spectra from various spectrographs across multiple observatories. Its primary purpose is to advance our understanding of the structure and evolution of planet-forming regions within the 0.1-10 au range.\n",
    "\n",
    "The database encompasses science-ready spectra and, in the future, essential products such as measured line fluxes and stacked line profiles. It incorporates data from major surveys conducted using multiple instruments, as detailed in the provided list. While SpExoDisks primarily focuses on high-resolution infrared spectra, it was built with versatility and expansion in mind. Its flexible, multi-format, and multi-dimensional structure can accommodate spectra from existing spectrographs as well as forthcoming ground-based IR spectrographs on extremely large telescopes.\n",
    "\n",
    "Our objectives extend beyond data accessibility; we aim to foster education and enable researchers to delve into the intricacies of disk spectroscopy. SpExoDisks aims to transmit existing expertise to the next generation of disk spectroscopists while offering community access to a diverse range of high-quality, high-resolution spectra obtained from various spectrographs across a substantial sample of Protoplanetary Disks.\n",
    "\n",
    "We anticipate that this initiative will not only support new modeling endeavors but also facilitate future observing campaigns for years to come. By providing a comprehensive platform, we strive to empower researchers in their pursuit of unraveling the mysteries surrounding Protoplanetary Disks.\n",
    "\n",
    "### 1.2. What is the SpExoDisks API?\n",
    "Our API Python package tool serves as a powerful and user-friendly interface for seamless access to the SpExoDisks database. Designed as an alternative to downloading data from the SpExoDisks website, this package enables direct connection and retrieval of information from the SpExoDisks database using Python programming. By leveraging the functionalities of the API, researchers and enthusiasts can effortlessly access a wealth of curated data, parameters, isotopologues, spectra, star aliases, and more. The package empowers users to efficiently retrieve, analyze, and visualize the vast collection of spectra, facilitating in-depth studies of Protoplanetary Disks. With its intuitive design and comprehensive functionality, our API Python package tool simplifies the process of harnessing SpExoDisks data for a wide range of scientific investigations and exploration of planet-forming regions.\n",
    "\n",
    "### 1.3. Growth and Future of SpExoDisks API\n",
    "Our API Python package tool is a public resource that aims to provide open and inclusive access to the SpExoDisks database. We believe in fostering collaboration and knowledge sharing within the scientific community, and this tool serves as a valuable asset for researchers, students, and enthusiasts alike. We are committed to continuously improving and expanding the capabilities of this package to meet the evolving needs and expectations of our users. We actively welcome feedback, suggestions, and contributions from the community to enhance the tool's functionality, performance, and user experience. By working together, we can ensure that this package remains a reliable and efficient resource for exploring the fascinating realm of Protoplanetary Disks and furthering our understanding of planetary formation."
   ]
  },
  {
   "attachments": {},
   "cell_type": "markdown",
   "metadata": {},
   "source": [
    "## 2. Getting Started with SpExoDisks API\n",
    "\n",
    "To begin, we will import the SpExoDisks API module, granting us access to its extensive functionality. Similar to using packages like NumPy, we can directly utilize the API's functions and methods. "
   ]
  },
  {
   "cell_type": "code",
   "execution_count": null,
   "metadata": {},
   "outputs": [],
   "source": [
    "from spexod import api"
   ]
  },
  {
   "cell_type": "markdown",
   "metadata": {
    "collapsed": false
   },
   "source": []
  },
  {
   "attachments": {},
   "cell_type": "markdown",
   "metadata": {},
   "source": [
    "### 2.1 Basic Functions and Their Utilization\n",
    "\n",
    "1. `get_available_isotopologues()`: This function retrieves a list of dictionaries of available isotopologues and their properties. It provides essential information about isotopes present in the SpExoDisks database.\n",
    "\n",
    "2. `get_params_and_units()`: By calling this function, you can obtain a list of dictionaries of available parameters and their corresponding units. It serves as a helpful reference for understanding the measurements and units associated with various parameters in the SpExoDisks database.\n",
    "\n",
    "3. `get_curated()`: This function returns a list of dictionaries of curated data and their corresponding handles. It allows you to access curated information from the SpExoDisks database, facilitating focused analyses and comparisons.\n",
    "\n",
    "4. `get_spectra()`: Utilize this function to retrieve a list of dictionaries of available spectra. It provides a comprehensive overview of the spectral data available in the SpExoDisks database, enabling further investigations and visualizations.\n",
    "\n",
    "5. `get_star_aliases()`: With this function, you can obtain a dictionary of star aliases and their associated handles. It assists in identifying stars using different aliases and simplifies data retrieval for specific objects of interest."
   ]
  },
  {
   "cell_type": "code",
   "execution_count": null,
   "metadata": {},
   "outputs": [],
   "source": [
    "api.get_available_isotopologues()"
   ]
  },
  {
   "cell_type": "code",
   "execution_count": null,
   "metadata": {},
   "outputs": [],
   "source": [
    "api.get_params_and_units()"
   ]
  },
  {
   "cell_type": "code",
   "execution_count": null,
   "metadata": {},
   "outputs": [],
   "source": [
    "api.get_curated()"
   ]
  },
  {
   "cell_type": "code",
   "execution_count": null,
   "metadata": {},
   "outputs": [],
   "source": [
    "api.get_spectra()"
   ]
  },
  {
   "cell_type": "code",
   "execution_count": null,
   "metadata": {},
   "outputs": [],
   "source": [
    "api.get_star_aliases()"
   ]
  },
  {
   "attachments": {},
   "cell_type": "markdown",
   "metadata": {},
   "source": [
    "### 2.2 Navigating the SpExoDisks Database\n",
    "\n",
    "1. `find_spectra_handle()`: This function allows you to search for spectra based off the alias(star name). For the mean time, if the alias is not typed verbatim as it is in the database, it will return a list of similar aliases. Just copy and paste the alias you want to search for into the `find_spectra_handle()` function and it will return a list of dictionaries of the spectra associated with the alias."
   ]
  },
  {
   "cell_type": "code",
   "execution_count": null,
   "metadata": {},
   "outputs": [],
   "source": [
    "api.find_spectra_handle('IRS')"
   ]
  },
  {
   "cell_type": "code",
   "execution_count": null,
   "metadata": {},
   "outputs": [],
   "source": [
    "api.find_spectra_handle('[c91] irs 1')"
   ]
  },
  {
   "cell_type": "code",
   "execution_count": null,
   "metadata": {},
   "outputs": [],
   "source": [
    "# for multiple stars, use a for loop or some other way to iterate.\n",
    "\n",
    "for star in ['[c91] irs 1', '[lln92] irs 17', '[lln92] irs 19']:\n",
    "    print(api.find_spectra_handle(star))"
   ]
  },
  {
   "attachments": {},
   "cell_type": "markdown",
   "metadata": {},
   "source": [
    "From finding the spectrum handle, we can use the `get_curated_data(handle)` function to return a list of dictionaries of the curated data associated with the handle. This function is useful for finding the parameters associated with the spectra."
   ]
  },
  {
   "cell_type": "code",
   "execution_count": null,
   "metadata": {},
   "outputs": [],
   "source": [
    "api.get_curated_data('leftsqbracketc91rightsqbracket_irs_1')"
   ]
  },
  {
   "attachments": {},
   "cell_type": "markdown",
   "metadata": {},
   "source": [
    "From finding the spectrum handle, we can use `get_all_spectra_handles(handle)`, we can find all the spectra handles associated with the alias. "
   ]
  },
  {
   "cell_type": "code",
   "execution_count": null,
   "metadata": {},
   "outputs": [],
   "source": [
    "api.get_all_spectra_handles('IRAS_08470minus4321')"
   ]
  },
  {
   "attachments": {},
   "cell_type": "markdown",
   "metadata": {},
   "source": [
    "From a given spectrum_handle, we can use `get_wavelengths(spectrum_handle)` to return a list of wavelengths associated with the spectrum_handle."
   ]
  },
  {
   "cell_type": "code",
   "execution_count": null,
   "metadata": {},
   "outputs": [],
   "source": [
    "api.get_wavelengths('crires_2254nm_2356nm_IRAS_08470minus4321')"
   ]
  },
  {
   "attachments": {},
   "cell_type": "markdown",
   "metadata": {},
   "source": [
    "We can do the same for the function `get_fluxes(spectrum_handle)`, however we will now recieve a tuple. The first element being a list of fluxes while the second element being a list of flux errors."
   ]
  },
  {
   "cell_type": "code",
   "execution_count": null,
   "metadata": {},
   "outputs": [],
   "source": [
    "api.get_fluxes('crires_2254nm_2356nm_IRAS_08470minus4321')"
   ]
  },
  {
   "attachments": {},
   "cell_type": "markdown",
   "metadata": {},
   "source": [
    "### 2.3 Other useful functions\n",
    "\n",
    " 1. The `get_stars_from_file(filename)` function is designed to facilitate the extraction of a list of stars from a given file. When called with the `filename` parameter, the function utilizes the `pandas` library to read the contents of the specified file, assumed to be in TXT format. Each star(alias) should be seperated by a column and must be typed in verbatim as it is in the database. *Use the `find_spectra_handle()` function to find the alias of the star you are looking for.* The function will then return a list of stars that can be used to retrieve data from the SpExoDisks database.\n",
    "\n",
    "    To use this function effectively, provide the desired filename as an argument when calling the function. Ensure that the file exists and is accessible from the specified location. Once executed, the function will parse the file, extract the column names representing stars, and return them as a list. This functionality simplifies the process of obtaining a list of stars from a file, allowing for efficient and streamlined data processing and analysis.\n",
    "\n",
    "2. The `create_spectra_file(stars)` function is designed to streamline the process of creating files for spectra associated with a list of stars. When invoked with the `stars` parameter, the function performs several tasks to generate the necessary files.\n",
    "\n",
    "   First, the function retrieves the spectra handles for each star by calling the `find_spectra(star)` and `get_all_spectra_handles(spectra)` functions. It organizes the spectra handles in a dictionary structure, with stars as keys and their corresponding spectra handles as values.\n",
    "\n",
    "   Next, the function creates a folder for each star if it doesn't already exist. It navigates into each star's folder and proceeds to retrieve the relevant data for each spectrum handle. The wavelengths, fluxes, and flux errors are obtained using the `get_wavelengths()` and `get_fluxes()` functions. Subsequently, a CSV file is created for each spectrum handle, containing the extracted data.\n",
    "\n",
    "   Additionally, a summary CSV file is generated for each star, consolidating the information of all associated spectra handles. This file provides an overview of the spectra available for each star, facilitating easier analysis and comparisons.\n",
    "\n",
    "   By utilizing the `create_spectra_file()` function with a list of stars, you can automate the process of creating folders, retrieving spectra data, and generating CSV files for each spectrum handle. This significantly simplifies the management and organization of spectra data, promoting efficient data handling and exploration of Protoplanetary Disks."
   ]
  },
  {
   "cell_type": "code",
   "execution_count": null,
   "metadata": {},
   "outputs": [],
   "source": [
    "stars = api.get_stars_from_file('test.txt')\n",
    "api.create_spectra_file(stars)"
   ]
  },
  {
   "attachments": {},
   "cell_type": "markdown",
   "metadata": {},
   "source": [
    "The `download_spectrum(spectra)` function provides a convenient way to download spectra from the SpExoDisks database. When invoked with the `spectra` parameter, which represents a list of spectra to download, the function performs the necessary steps to retrieve the data.\n",
    "\n",
    "First, the function initiates a login process using the `login()` function, which provides the necessary access token for authentication. Once authenticated, the function constructs the appropriate API request URL, specifying the desired spectra to download.\n",
    "\n",
    "Using the access token in the request headers, the function sends a GET request to the SpExoDisks database, retrieving the requested spectra data in the form of a zip file. It then proceeds to extract the contents of the zip file into a folder named \"Spectra\" to organize the downloaded data.\n",
    "\n",
    "To utilize the `download_spectrum()` function effectively, pass a list of spectra names as an argument when calling the function. Ensure that the spectra names correspond to existing entries in the SpExoDisks database. Upon execution, the function will handle the authentication, initiate the download process, and store the downloaded spectra in the \"Spectra\" folder.\n",
    "\n",
    "This function streamlines the process of retrieving spectra data, allowing for efficient access and utilization of the SpExoDisks database, supporting further analysis and exploration of Protoplanetary Disks."
   ]
  },
  {
   "cell_type": "code",
   "execution_count": null,
   "metadata": {},
   "outputs": [],
   "source": [
    "spectra_list = ['crires_3657nm_3750nm_leftsqbracketc91rightsqbracket_irs_1']\n",
    "api.download_spectrum(spectra_list)"
   ]
  },
  {
   "attachments": {},
   "cell_type": "markdown",
   "metadata": {},
   "source": [
    "The `plot_spectra(wavelength, flux)` function offers a convenient way to visualize a spectrum. When called with the `wavelength` and `flux` parameters, the function generates a line plot to depict the relationship between wavelength and flux.\n",
    "\n",
    "Using the `pandas` library, the function constructs a DataFrame from the provided `wavelength` and `flux` data. It then utilizes the `plotly.express` library to create a line plot, with the wavelength values on the x-axis and the corresponding flux values on the y-axis.\n",
    "\n",
    "By invoking the `plot_spectra()` function with appropriate wavelength and flux data, researchers can obtain an interactive plot displaying the spectral characteristics of interest. This visual representation aids in the exploration and interpretation of the spectrum, providing valuable insights into the features and trends present in Protoplanetary Disks.\n",
    "\n",
    "To effectively utilize the `plot_spectra()` function, ensure that you have the `pandas` and `plotly.express` libraries installed and imported in your Python environment. Pass the wavelength and flux data as arguments when calling the function, and the resulting plot will be displayed for analysis and visualization purposes."
   ]
  },
  {
   "cell_type": "code",
   "execution_count": null,
   "metadata": {},
   "outputs": [],
   "source": [
    "spectra = 'crires_3657nm_3750nm_leftsqbracketc91rightsqbracket_irs_1'\n",
    "wavelengths = api.get_wavelengths(spectra)\n",
    "fluxes, flux_errors = api.get_fluxes(spectra)\n",
    "api.plot_spectra(wavelengths, fluxes)"
   ]
  }
 ],
 "metadata": {
  "kernelspec": {
   "display_name": "Python 3",
   "language": "python",
   "name": "python3"
  },
  "language_info": {
   "codemirror_mode": {
    "name": "ipython",
    "version": 3
   },
   "file_extension": ".py",
   "mimetype": "text/x-python",
   "name": "python",
   "nbconvert_exporter": "python",
   "pygments_lexer": "ipython3",
   "version": "3.10.8"
  }
 },
 "nbformat": 4,
 "nbformat_minor": 0
}
